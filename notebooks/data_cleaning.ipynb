{
 "cells": [
  {
   "cell_type": "markdown",
   "id": "bc4e75a4-6172-46a2-b092-d7d54773870f",
   "metadata": {},
   "source": [
    "***Data Source [Suicide rate and life expectancy](https://www.kaggle.com/datasets/marshuu/suicide-rate-and-life-expectancy)***"
   ]
  },
  {
   "cell_type": "code",
   "execution_count": 2,
   "id": "dc0e542c-e118-4900-bad2-2240a6d6c6cf",
   "metadata": {},
   "outputs": [],
   "source": [
    "#imports\n",
    "import pandas as pd\n"
   ]
  },
  {
   "cell_type": "code",
   "execution_count": 3,
   "id": "f817128c-b5cd-4c18-b011-fb5c35fd6314",
   "metadata": {},
   "outputs": [],
   "source": [
    "#load the data from Excel"
   ]
  },
  {
   "cell_type": "code",
   "execution_count": 95,
   "id": "f7e78669-4536-462c-b4cc-f967105c710e",
   "metadata": {},
   "outputs": [
    {
     "data": {
      "text/html": [
       "<div>\n",
       "<style scoped>\n",
       "    .dataframe tbody tr th:only-of-type {\n",
       "        vertical-align: middle;\n",
       "    }\n",
       "\n",
       "    .dataframe tbody tr th {\n",
       "        vertical-align: top;\n",
       "    }\n",
       "\n",
       "    .dataframe thead th {\n",
       "        text-align: right;\n",
       "    }\n",
       "</style>\n",
       "<table border=\"1\" class=\"dataframe\">\n",
       "  <thead>\n",
       "    <tr style=\"text-align: right;\">\n",
       "      <th></th>\n",
       "      <th>Country</th>\n",
       "      <th>GDP per capita</th>\n",
       "      <th>Suicide rate</th>\n",
       "    </tr>\n",
       "  </thead>\n",
       "  <tbody>\n",
       "    <tr>\n",
       "      <th>0</th>\n",
       "      <td>Afghanistan</td>\n",
       "      <td>1,105</td>\n",
       "      <td>20.6</td>\n",
       "    </tr>\n",
       "    <tr>\n",
       "      <th>1</th>\n",
       "      <td>Albania</td>\n",
       "      <td>4,932</td>\n",
       "      <td>32.4</td>\n",
       "    </tr>\n",
       "    <tr>\n",
       "      <th>2</th>\n",
       "      <td>Algeria</td>\n",
       "      <td>4,534</td>\n",
       "      <td>15.6</td>\n",
       "    </tr>\n",
       "    <tr>\n",
       "      <th>3</th>\n",
       "      <td>Andorra</td>\n",
       "      <td>46,622</td>\n",
       "      <td>18.9</td>\n",
       "    </tr>\n",
       "    <tr>\n",
       "      <th>4</th>\n",
       "      <td>Angola</td>\n",
       "      <td>2,077</td>\n",
       "      <td>20.5</td>\n",
       "    </tr>\n",
       "  </tbody>\n",
       "</table>\n",
       "</div>"
      ],
      "text/plain": [
       "       Country GDP per capita  Suicide rate\n",
       "0  Afghanistan          1,105          20.6\n",
       "1      Albania          4,932          32.4\n",
       "2      Algeria          4,534          15.6\n",
       "3      Andorra         46,622          18.9\n",
       "4       Angola          2,077          20.5"
      ]
     },
     "execution_count": 95,
     "metadata": {},
     "output_type": "execute_result"
    }
   ],
   "source": [
    "suicide_df = pd.read_csv('../data/Suicide Rate.csv')\n",
    "suicide_df.head()"
   ]
  },
  {
   "cell_type": "code",
   "execution_count": 96,
   "id": "074d3a59-12c2-488a-a09b-c5557551cca1",
   "metadata": {},
   "outputs": [
    {
     "data": {
      "text/html": [
       "<div>\n",
       "<style scoped>\n",
       "    .dataframe tbody tr th:only-of-type {\n",
       "        vertical-align: middle;\n",
       "    }\n",
       "\n",
       "    .dataframe tbody tr th {\n",
       "        vertical-align: top;\n",
       "    }\n",
       "\n",
       "    .dataframe thead th {\n",
       "        text-align: right;\n",
       "    }\n",
       "</style>\n",
       "<table border=\"1\" class=\"dataframe\">\n",
       "  <thead>\n",
       "    <tr style=\"text-align: right;\">\n",
       "      <th></th>\n",
       "      <th>Country</th>\n",
       "      <th>Life Expectancy (years) - Men</th>\n",
       "      <th>Life Expectancy (years) - Women</th>\n",
       "      <th>Happiness Score</th>\n",
       "      <th>Fertility Rate (births per woman)</th>\n",
       "    </tr>\n",
       "  </thead>\n",
       "  <tbody>\n",
       "    <tr>\n",
       "      <th>0</th>\n",
       "      <td>Afghanistan</td>\n",
       "      <td>60.6</td>\n",
       "      <td>68.2</td>\n",
       "      <td>3.794</td>\n",
       "      <td>4.7</td>\n",
       "    </tr>\n",
       "    <tr>\n",
       "      <th>1</th>\n",
       "      <td>Albania</td>\n",
       "      <td>74.8</td>\n",
       "      <td>81.3</td>\n",
       "      <td>4.959</td>\n",
       "      <td>1.7</td>\n",
       "    </tr>\n",
       "    <tr>\n",
       "      <th>2</th>\n",
       "      <td>Algeria</td>\n",
       "      <td>73.3</td>\n",
       "      <td>78.9</td>\n",
       "      <td>5.605</td>\n",
       "      <td>2.9</td>\n",
       "    </tr>\n",
       "    <tr>\n",
       "      <th>3</th>\n",
       "      <td>Andorra</td>\n",
       "      <td>81.7</td>\n",
       "      <td>84.8</td>\n",
       "      <td>6.955</td>\n",
       "      <td>1.4</td>\n",
       "    </tr>\n",
       "    <tr>\n",
       "      <th>4</th>\n",
       "      <td>Angola</td>\n",
       "      <td>58.1</td>\n",
       "      <td>65.6</td>\n",
       "      <td>4.105</td>\n",
       "      <td>5.3</td>\n",
       "    </tr>\n",
       "  </tbody>\n",
       "</table>\n",
       "</div>"
      ],
      "text/plain": [
       "       Country  Life Expectancy (years) - Men  \\\n",
       "0  Afghanistan                           60.6   \n",
       "1      Albania                           74.8   \n",
       "2      Algeria                           73.3   \n",
       "3      Andorra                           81.7   \n",
       "4       Angola                           58.1   \n",
       "\n",
       "   Life Expectancy (years) - Women  Happiness Score  \\\n",
       "0                             68.2            3.794   \n",
       "1                             81.3            4.959   \n",
       "2                             78.9            5.605   \n",
       "3                             84.8            6.955   \n",
       "4                             65.6            4.105   \n",
       "\n",
       "   Fertility Rate (births per woman)  \n",
       "0                                4.7  \n",
       "1                                1.7  \n",
       "2                                2.9  \n",
       "3                                1.4  \n",
       "4                                5.3  "
      ]
     },
     "execution_count": 96,
     "metadata": {},
     "output_type": "execute_result"
    }
   ],
   "source": [
    "life_df = pd.read_csv('../data/Life expectancy.csv')\n",
    "life_df.head()"
   ]
  },
  {
   "cell_type": "code",
   "execution_count": 97,
   "id": "e94b856c-249d-45ac-bebf-7b13ac67ab6c",
   "metadata": {},
   "outputs": [],
   "source": [
    "#lets do some exploration and cleaning"
   ]
  },
  {
   "cell_type": "markdown",
   "id": "88469ac9-ec02-4c93-bb4d-a87ba975b24c",
   "metadata": {},
   "source": [
    "***Dataset: Suicide Rate***"
   ]
  },
  {
   "cell_type": "code",
   "execution_count": 101,
   "id": "af74c195-db9c-4e35-a26b-e1a4a428541f",
   "metadata": {},
   "outputs": [
    {
     "data": {
      "text/plain": [
       "(140, 3)"
      ]
     },
     "execution_count": 101,
     "metadata": {},
     "output_type": "execute_result"
    }
   ],
   "source": [
    "suicide_df.shape"
   ]
  },
  {
   "cell_type": "code",
   "execution_count": 102,
   "id": "840a2709-c71f-4810-b558-3d6548388423",
   "metadata": {},
   "outputs": [
    {
     "name": "stdout",
     "output_type": "stream",
     "text": [
      "<class 'pandas.core.frame.DataFrame'>\n",
      "RangeIndex: 140 entries, 0 to 139\n",
      "Data columns (total 3 columns):\n",
      " #   Column          Non-Null Count  Dtype  \n",
      "---  ------          --------------  -----  \n",
      " 0   Country         140 non-null    object \n",
      " 1   GDP per capita  140 non-null    object \n",
      " 2   Suicide rate    140 non-null    float64\n",
      "dtypes: float64(1), object(2)\n",
      "memory usage: 3.4+ KB\n"
     ]
    }
   ],
   "source": [
    "suicide_df.info() #summary of dataset"
   ]
  },
  {
   "cell_type": "markdown",
   "id": "9115c6e2-7f0d-448a-aa5c-026acb12a0d0",
   "metadata": {},
   "source": [
    "***It seems perfect as this dataset does not contains any null values***"
   ]
  },
  {
   "cell_type": "code",
   "execution_count": 103,
   "id": "5aebc6c2-7391-41a3-8280-d1fe2288835e",
   "metadata": {},
   "outputs": [
    {
     "data": {
      "text/plain": [
       "False    140\n",
       "dtype: int64"
      ]
     },
     "execution_count": 103,
     "metadata": {},
     "output_type": "execute_result"
    }
   ],
   "source": [
    "suicide_df.duplicated().value_counts(dropna=False) #find the duplicate rows"
   ]
  },
  {
   "cell_type": "markdown",
   "id": "040f886e-628f-4aa2-a8cf-477fd439e944",
   "metadata": {},
   "source": [
    "***No True value in the output shows dataset does not contains duplicate rows***"
   ]
  },
  {
   "cell_type": "code",
   "execution_count": 104,
   "id": "095a05ec-85e2-4802-8faa-991d36335176",
   "metadata": {},
   "outputs": [],
   "source": [
    "# Lets deep dive into more and validate the values present in various columns"
   ]
  },
  {
   "cell_type": "code",
   "execution_count": 105,
   "id": "6ce32b52-166a-4403-957c-6fb51dcd0859",
   "metadata": {},
   "outputs": [
    {
     "data": {
      "text/plain": [
       "Afghanistan         1\n",
       "Lithuania           1\n",
       "Laos                1\n",
       "Latvia              1\n",
       "Lebanon             1\n",
       "                   ..\n",
       "Costa Rica          1\n",
       "Congo, Rep.         1\n",
       "Congo, Dem. Rep.    1\n",
       "Comoros             1\n",
       "Thailand            1\n",
       "Name: Country, Length: 140, dtype: int64"
      ]
     },
     "execution_count": 105,
     "metadata": {},
     "output_type": "execute_result"
    }
   ],
   "source": [
    "suicide_df['Country'].value_counts()"
   ]
  },
  {
   "cell_type": "code",
   "execution_count": 106,
   "id": "b4c8d159-867e-4a8f-be1f-e28b1b7b2dba",
   "metadata": {},
   "outputs": [
    {
     "data": {
      "text/plain": [
       "array(['Afghanistan', 'Albania', 'Algeria', 'Andorra', 'Angola',\n",
       "       'Antigua and Barbuda', 'Argentina', 'Armenia', 'Australia',\n",
       "       'Austria', 'Azerbaijan', 'Bahamas', 'Bahrain', 'Bangladesh',\n",
       "       'Barbados', 'Belarus', 'Belgium', 'Belize', 'Benin', 'Bhutan',\n",
       "       'Bolivia', 'Bosnia and Herzegovina', 'Botswana', 'Brazil',\n",
       "       'Brunei Darussalam', 'Bulgaria', 'Burkina Faso', 'Burundi',\n",
       "       'Cambodia', 'Cameroon', 'Canada', 'Cape Verde',\n",
       "       'Central African Republic', 'Chad', 'Chile', 'China', 'Colombia',\n",
       "       'Comoros', 'Congo, Dem. Rep.', 'Congo, Rep.', 'Costa Rica',\n",
       "       \"Cote d'Ivoire\", 'Croatia', 'Cuba', 'Cyprus', 'Czech Republic',\n",
       "       'Denmark', 'Djibouti', 'Dominica', 'Dominican Republic', 'Ecuador',\n",
       "       'Egypt', 'El Salvador', 'Equatorial Guinea', 'Eritrea', 'Estonia',\n",
       "       'Ethiopia', 'Fiji', 'Finland', 'France', 'Gabon', 'Gambia',\n",
       "       'Georgia', 'Germany', 'Ghana', 'Greece', 'Grenada', 'Guatemala',\n",
       "       'Guinea', 'Guinea-Bissau', 'Guyana', 'Haiti', 'Honduras',\n",
       "       'Hungary', 'Iceland', 'India', 'Indonesia', 'Iran', 'Iraq',\n",
       "       'Ireland', 'Israel', 'Italy', 'Jamaica', 'Japan', 'Jordan',\n",
       "       'Kazakhstan', 'Kenya', 'Kiribati', 'Kuwait', 'Kyrgyzstan', 'Laos',\n",
       "       'Latvia', 'Lebanon', 'Lesotho', 'Liberia', 'Libya', 'Lithuania',\n",
       "       'Luxembourg', 'Macedonia', 'Madagascar', 'Malawi', 'Malaysia',\n",
       "       'Maldives', 'Mali', 'Malta', 'Marshall Islands', 'Mauritania',\n",
       "       'Mauritius', 'Mexico', 'Micronesia, Fed. Sts.', 'Moldova',\n",
       "       'Mongolia', 'Montenegro', 'Morocco', 'Mozambique', 'Myanmar',\n",
       "       'Namibia', 'Nauru', 'Nepal', 'Netherlands', 'New Zealand',\n",
       "       'Nicaragua', 'Niger', 'Nigeria', 'Norway', 'Oman', 'Pakistan',\n",
       "       'Palau', 'Panama', 'Papua New Guinea', 'Paraguay', 'Peru',\n",
       "       'Philippines', 'Poland', 'Portugal', 'Spain', 'Switzerland',\n",
       "       'United Kingdom', 'United States', 'Thailand'], dtype=object)"
      ]
     },
     "execution_count": 106,
     "metadata": {},
     "output_type": "execute_result"
    }
   ],
   "source": [
    "suicide_df['Country'].unique()"
   ]
  },
  {
   "cell_type": "markdown",
   "id": "56d6d85a-f546-4984-8df8-a62035944bff",
   "metadata": {},
   "source": [
    "***Countries looks perfect***"
   ]
  },
  {
   "cell_type": "code",
   "execution_count": 107,
   "id": "7e3066b7-07bd-4470-a22f-91f479d9169b",
   "metadata": {},
   "outputs": [
    {
     "data": {
      "text/plain": [
       "13,931    2\n",
       "2,939     2\n",
       "21,140    1\n",
       "2,398     1\n",
       "19,945    1\n",
       "         ..\n",
       "10,918    1\n",
       "1,856     1\n",
       "764       1\n",
       "1,107     1\n",
       "6,792     1\n",
       "Name: GDP per capita, Length: 138, dtype: int64"
      ]
     },
     "execution_count": 107,
     "metadata": {},
     "output_type": "execute_result"
    }
   ],
   "source": [
    "suicide_df['GDP per capita'].value_counts()"
   ]
  },
  {
   "cell_type": "code",
   "execution_count": 108,
   "id": "d9005cfb-0cc7-4793-9c5f-3fba917141ae",
   "metadata": {},
   "outputs": [],
   "source": [
    "# we need to convert this field to numeric"
   ]
  },
  {
   "cell_type": "code",
   "execution_count": 109,
   "id": "980741e2-fca5-4486-838d-1a775a662241",
   "metadata": {},
   "outputs": [],
   "source": [
    "suicide_df['GDP per capita']=suicide_df['GDP per capita'].apply(lambda x: (x.replace(',',''))).astype('int')"
   ]
  },
  {
   "cell_type": "code",
   "execution_count": 110,
   "id": "e7b016e1-d3cb-41fd-a0cd-98180a507196",
   "metadata": {},
   "outputs": [
    {
     "data": {
      "text/plain": [
       "13931    2\n",
       "2939     2\n",
       "21140    1\n",
       "2398     1\n",
       "19945    1\n",
       "        ..\n",
       "10918    1\n",
       "1856     1\n",
       "764      1\n",
       "1107     1\n",
       "6792     1\n",
       "Name: GDP per capita, Length: 138, dtype: int64"
      ]
     },
     "execution_count": 110,
     "metadata": {},
     "output_type": "execute_result"
    }
   ],
   "source": [
    "suicide_df['GDP per capita'].value_counts() #GDP in US Dollar"
   ]
  },
  {
   "cell_type": "code",
   "execution_count": 111,
   "id": "aaeaf139-98ef-4b85-a510-771c9473c79a",
   "metadata": {},
   "outputs": [
    {
     "data": {
      "text/plain": [
       "14.3    6\n",
       "12.9    5\n",
       "18.5    5\n",
       "14.4    5\n",
       "10.7    4\n",
       "       ..\n",
       "18.2    1\n",
       "16.6    1\n",
       "12.2    1\n",
       "28.2    1\n",
       "27.8    1\n",
       "Name: Suicide rate, Length: 84, dtype: int64"
      ]
     },
     "execution_count": 111,
     "metadata": {},
     "output_type": "execute_result"
    }
   ],
   "source": [
    "suicide_df['Suicide rate'].value_counts()"
   ]
  },
  {
   "cell_type": "code",
   "execution_count": 112,
   "id": "8171dd40-7378-4146-92eb-cfe8405002f2",
   "metadata": {},
   "outputs": [],
   "source": [
    "#lets rename columns. I prefer camel notation\n",
    "suicide_df.rename(columns={\n",
    "        'GDP per capita':'gdpPerCapita',\n",
    "        'Suicide rate':'suicideRate'\n",
    "},inplace=True)"
   ]
  },
  {
   "cell_type": "code",
   "execution_count": 113,
   "id": "29f21ddb-639a-4e85-b70c-cc4efbba9072",
   "metadata": {},
   "outputs": [
    {
     "name": "stdout",
     "output_type": "stream",
     "text": [
      "<class 'pandas.core.frame.DataFrame'>\n",
      "RangeIndex: 140 entries, 0 to 139\n",
      "Data columns (total 3 columns):\n",
      " #   Column        Non-Null Count  Dtype  \n",
      "---  ------        --------------  -----  \n",
      " 0   Country       140 non-null    object \n",
      " 1   gdpPerCapita  140 non-null    int32  \n",
      " 2   suicideRate   140 non-null    float64\n",
      "dtypes: float64(1), int32(1), object(1)\n",
      "memory usage: 2.9+ KB\n"
     ]
    }
   ],
   "source": [
    "suicide_df.info()"
   ]
  },
  {
   "cell_type": "markdown",
   "id": "f7a3ab0c-fd0b-4cd9-bfe8-d22fb16678af",
   "metadata": {},
   "source": [
    "***That dataset looks perfect***"
   ]
  },
  {
   "cell_type": "markdown",
   "id": "ec07135c-ea94-4edf-8179-4422cb845834",
   "metadata": {},
   "source": [
    "***Datatset: Life expectancy***"
   ]
  },
  {
   "cell_type": "code",
   "execution_count": 114,
   "id": "a2b6abbc-7d8e-4b62-8c45-16306d869c70",
   "metadata": {},
   "outputs": [
    {
     "data": {
      "text/plain": [
       "(142, 5)"
      ]
     },
     "execution_count": 114,
     "metadata": {},
     "output_type": "execute_result"
    }
   ],
   "source": [
    "life_df.shape"
   ]
  },
  {
   "cell_type": "code",
   "execution_count": 115,
   "id": "859e2e5e-7900-4d9f-a051-d7bcb99ef472",
   "metadata": {},
   "outputs": [
    {
     "name": "stdout",
     "output_type": "stream",
     "text": [
      "<class 'pandas.core.frame.DataFrame'>\n",
      "RangeIndex: 142 entries, 0 to 141\n",
      "Data columns (total 5 columns):\n",
      " #   Column                             Non-Null Count  Dtype  \n",
      "---  ------                             --------------  -----  \n",
      " 0   Country                            142 non-null    object \n",
      " 1   Life Expectancy (years) - Men      142 non-null    float64\n",
      " 2   Life Expectancy (years) - Women    142 non-null    float64\n",
      " 3   Happiness Score                    142 non-null    float64\n",
      " 4   Fertility Rate (births per woman)  142 non-null    float64\n",
      "dtypes: float64(4), object(1)\n",
      "memory usage: 5.7+ KB\n"
     ]
    }
   ],
   "source": [
    "life_df.info()"
   ]
  },
  {
   "cell_type": "markdown",
   "id": "b2ec5cf4-95b1-4758-b675-2aca83d30e6a",
   "metadata": {},
   "source": [
    "***It seems perfect as this datset does not contains any null values***"
   ]
  },
  {
   "cell_type": "code",
   "execution_count": 116,
   "id": "221ee7f1-a5f1-4f64-ae10-0a27c9757ac9",
   "metadata": {},
   "outputs": [
    {
     "data": {
      "text/plain": [
       "False    142\n",
       "dtype: int64"
      ]
     },
     "execution_count": 116,
     "metadata": {},
     "output_type": "execute_result"
    }
   ],
   "source": [
    "life_df.duplicated().value_counts(dropna=False) #find the duplicate rows"
   ]
  },
  {
   "cell_type": "markdown",
   "id": "5fa5536a-773f-4ee5-8c26-ceb85803585f",
   "metadata": {},
   "source": [
    "***No True value in the output shows dataset does not contains duplicate rows***"
   ]
  },
  {
   "cell_type": "code",
   "execution_count": 117,
   "id": "9cf2021b-8635-454a-abdd-aa8f74081652",
   "metadata": {},
   "outputs": [
    {
     "data": {
      "text/plain": [
       "Afghanistan         1\n",
       "Liberia             1\n",
       "Kuwait              1\n",
       "Kyrgyz Republic     1\n",
       "Laos                1\n",
       "                   ..\n",
       "Cote d'Ivoire       1\n",
       "Costa Rica          1\n",
       "Congo, Rep.         1\n",
       "Congo, Dem. Rep.    1\n",
       "United Kingdom      1\n",
       "Name: Country, Length: 142, dtype: int64"
      ]
     },
     "execution_count": 117,
     "metadata": {},
     "output_type": "execute_result"
    }
   ],
   "source": [
    "life_df['Country'].value_counts()"
   ]
  },
  {
   "cell_type": "code",
   "execution_count": 118,
   "id": "c455136e-6612-4274-9814-b786acd282d4",
   "metadata": {},
   "outputs": [
    {
     "data": {
      "text/plain": [
       "array(['Afghanistan', 'Albania', 'Algeria', 'Andorra', 'Angola',\n",
       "       'Antigua and Barbuda', 'Argentina', 'Armenia', 'Australia',\n",
       "       'Austria', 'Azerbaijan', 'Bahamas', 'Bahrain', 'Bangladesh',\n",
       "       'Barbados', 'Belarus', 'Belgium', 'Belize', 'Benin', 'Bhutan',\n",
       "       'Bolivia', 'Bosnia and Herzegovina', 'Botswana', 'Brazil',\n",
       "       'Brunei', 'Bulgaria', 'Burkina Faso', 'Burundi', 'Cabo Verde',\n",
       "       'Cambodia', 'Cameroon', 'Canada', 'Central African Republic',\n",
       "       'Chad', 'Chile', 'China', 'Colombia', 'Comoros',\n",
       "       'Congo, Dem. Rep.', 'Congo, Rep.', 'Costa Rica', \"Cote d'Ivoire\",\n",
       "       'Croatia', 'Cuba', 'Cyprus', 'Czech Republic', 'Denmark',\n",
       "       'Djibouti', 'Dominica', 'Dominican Republic', 'Ecuador', 'Egypt',\n",
       "       'El Salvador', 'Equatorial Guinea', 'Eritrea', 'Estonia',\n",
       "       'Ethiopia', 'Fiji', 'Finland', 'France', 'Gabon', 'Gambia',\n",
       "       'Georgia', 'Germany', 'Ghana', 'Greece', 'Grenada', 'Guatemala',\n",
       "       'Guinea', 'Guinea-Bissau', 'Guyana', 'Haiti', 'Honduras',\n",
       "       'Hungary', 'Iceland', 'India', 'Indonesia', 'Iran', 'Iraq',\n",
       "       'Ireland', 'Israel', 'Italy', 'Jamaica', 'Japan', 'Jordan',\n",
       "       'Kazakhstan', 'Kenya', 'Kiribati', 'Korea, Dem. Rep.',\n",
       "       'Korea, Rep.', 'Kosovo', 'Kuwait', 'Kyrgyz Republic', 'Laos',\n",
       "       'Latvia', 'Lebanon', 'Lesotho', 'Liberia', 'Libya', 'Lithuania',\n",
       "       'Luxembourg', 'Macedonia, FYR', 'Madagascar', 'Malawi', 'Malaysia',\n",
       "       'Maldives', 'Mali', 'Malta', 'Marshall Islands', 'Mauritania',\n",
       "       'Mauritius', 'Mexico', 'Micronesia, Fed. Sts.', 'Moldova',\n",
       "       'Mongolia', 'Montenegro', 'Morocco', 'Mozambique', 'Myanmar',\n",
       "       'Namibia', 'Nepal', 'Netherlands', 'New Zealand', 'Nicaragua',\n",
       "       'Niger', 'Nigeria', 'Norway', 'Oman', 'Pakistan', 'Palau',\n",
       "       'Panama', 'Papua New Guinea', 'Paraguay', 'Peru', 'Philippines',\n",
       "       'Poland', 'Portugal', 'Qatar', 'Singapore', 'United Arab Emirates',\n",
       "       'United States', 'United Kingdom'], dtype=object)"
      ]
     },
     "execution_count": 118,
     "metadata": {},
     "output_type": "execute_result"
    }
   ],
   "source": [
    "life_df['Country'].unique()"
   ]
  },
  {
   "cell_type": "code",
   "execution_count": 119,
   "id": "9863853f-93fc-48e2-962a-dc2c6580c2bd",
   "metadata": {},
   "outputs": [
    {
     "data": {
      "text/plain": [
       "74.4    7\n",
       "82.0    4\n",
       "76.5    3\n",
       "74.1    3\n",
       "82.5    3\n",
       "       ..\n",
       "79.5    1\n",
       "64.7    1\n",
       "70.7    1\n",
       "63.2    1\n",
       "79.0    1\n",
       "Name: Life Expectancy (years) - Men, Length: 98, dtype: int64"
      ]
     },
     "execution_count": 119,
     "metadata": {},
     "output_type": "execute_result"
    }
   ],
   "source": [
    "life_df['Life Expectancy (years) - Men'].value_counts()"
   ]
  },
  {
   "cell_type": "code",
   "execution_count": 120,
   "id": "a8c25cb1-5efb-4eb4-9c96-f326d9a673e0",
   "metadata": {},
   "outputs": [
    {
     "data": {
      "text/plain": [
       "78.8    4\n",
       "81.3    4\n",
       "81.5    4\n",
       "78.2    3\n",
       "79.4    3\n",
       "       ..\n",
       "71.3    1\n",
       "82.7    1\n",
       "81.8    1\n",
       "82.6    1\n",
       "83.0    1\n",
       "Name: Life Expectancy (years) - Women, Length: 102, dtype: int64"
      ]
     },
     "execution_count": 120,
     "metadata": {},
     "output_type": "execute_result"
    }
   ],
   "source": [
    "life_df['Life Expectancy (years) - Women'].value_counts()"
   ]
  },
  {
   "cell_type": "code",
   "execution_count": 121,
   "id": "f0f2d4fd-49a4-4266-a925-13ac828a3fa0",
   "metadata": {},
   "outputs": [
    {
     "data": {
      "text/plain": [
       "5.906    2\n",
       "4.739    2\n",
       "6.646    2\n",
       "4.527    2\n",
       "6.442    2\n",
       "        ..\n",
       "6.707    1\n",
       "4.772    1\n",
       "3.462    1\n",
       "4.365    1\n",
       "6.720    1\n",
       "Name: Happiness Score, Length: 131, dtype: int64"
      ]
     },
     "execution_count": 121,
     "metadata": {},
     "output_type": "execute_result"
    }
   ],
   "source": [
    "life_df['Happiness Score'].value_counts()"
   ]
  },
  {
   "cell_type": "code",
   "execution_count": 122,
   "id": "0604adb2-4c46-4531-9d68-6cf9370b0008",
   "metadata": {},
   "outputs": [
    {
     "data": {
      "text/plain": [
       "1.7    11\n",
       "2.3    11\n",
       "1.5    10\n",
       "2.2     9\n",
       "2.1     9\n",
       "2.5     8\n",
       "1.9     7\n",
       "1.6     7\n",
       "1.3     6\n",
       "1.8     6\n",
       "5.5     5\n",
       "1.4     4\n",
       "5.4     4\n",
       "3.9     4\n",
       "4.9     4\n",
       "2.4     3\n",
       "3.4     3\n",
       "2.6     3\n",
       "1.2     2\n",
       "3.3     2\n",
       "2.8     2\n",
       "3.2     2\n",
       "2.9     2\n",
       "2.7     1\n",
       "5.2     1\n",
       "7.6     1\n",
       "4.8     1\n",
       "6.2     1\n",
       "4.1     1\n",
       "4.7     1\n",
       "3.5     1\n",
       "4.3     1\n",
       "4.0     1\n",
       "4.4     1\n",
       "4.2     1\n",
       "4.6     1\n",
       "3.7     1\n",
       "6.1     1\n",
       "3.1     1\n",
       "5.3     1\n",
       "5.7     1\n",
       "Name: Fertility Rate (births per woman), dtype: int64"
      ]
     },
     "execution_count": 122,
     "metadata": {},
     "output_type": "execute_result"
    }
   ],
   "source": [
    "life_df['Fertility Rate (births per woman)'].value_counts()"
   ]
  },
  {
   "cell_type": "code",
   "execution_count": 123,
   "id": "d60bcc47-549b-4e6c-8f53-de72d8080314",
   "metadata": {},
   "outputs": [],
   "source": [
    "#rename columns\n",
    "life_df.rename(columns={'Life Expectancy (years) - Men':'lifeExpectancyMen', #in years\n",
    "                        'Life Expectancy (years) - Women':'lifeExpectancyWomen',\n",
    "                        'Happiness Score':'happinessScore',\n",
    "                        'Fertility Rate (births per woman)':'fertilityRate' #births/woman\n",
    "                       }, inplace=True)"
   ]
  },
  {
   "cell_type": "code",
   "execution_count": 124,
   "id": "b593dfd8-d03f-423e-bc0c-7f1d69686e35",
   "metadata": {},
   "outputs": [
    {
     "name": "stdout",
     "output_type": "stream",
     "text": [
      "<class 'pandas.core.frame.DataFrame'>\n",
      "RangeIndex: 142 entries, 0 to 141\n",
      "Data columns (total 5 columns):\n",
      " #   Column               Non-Null Count  Dtype  \n",
      "---  ------               --------------  -----  \n",
      " 0   Country              142 non-null    object \n",
      " 1   lifeExpectancyMen    142 non-null    float64\n",
      " 2   lifeExpectancyWomen  142 non-null    float64\n",
      " 3   happinessScore       142 non-null    float64\n",
      " 4   fertilityRate        142 non-null    float64\n",
      "dtypes: float64(4), object(1)\n",
      "memory usage: 5.7+ KB\n"
     ]
    }
   ],
   "source": [
    "life_df.info()"
   ]
  },
  {
   "cell_type": "markdown",
   "id": "d77d0891-72c9-4d6a-b159-f57aa859e670",
   "metadata": {},
   "source": [
    "***That dataset looks perfect***"
   ]
  },
  {
   "cell_type": "code",
   "execution_count": 125,
   "id": "9725ec94-f250-4e4b-8f34-e817a891136f",
   "metadata": {},
   "outputs": [],
   "source": [
    "# we will merge these datasets in one dataset based in country"
   ]
  },
  {
   "cell_type": "code",
   "execution_count": 126,
   "id": "54048847-71c7-4f42-bff5-35d801488d7d",
   "metadata": {},
   "outputs": [
    {
     "data": {
      "text/html": [
       "<div>\n",
       "<style scoped>\n",
       "    .dataframe tbody tr th:only-of-type {\n",
       "        vertical-align: middle;\n",
       "    }\n",
       "\n",
       "    .dataframe tbody tr th {\n",
       "        vertical-align: top;\n",
       "    }\n",
       "\n",
       "    .dataframe thead th {\n",
       "        text-align: right;\n",
       "    }\n",
       "</style>\n",
       "<table border=\"1\" class=\"dataframe\">\n",
       "  <thead>\n",
       "    <tr style=\"text-align: right;\">\n",
       "      <th></th>\n",
       "      <th>Country</th>\n",
       "      <th>gdpPerCapita</th>\n",
       "      <th>suicideRate</th>\n",
       "      <th>lifeExpectancyMen</th>\n",
       "      <th>lifeExpectancyWomen</th>\n",
       "      <th>happinessScore</th>\n",
       "      <th>fertilityRate</th>\n",
       "    </tr>\n",
       "  </thead>\n",
       "  <tbody>\n",
       "    <tr>\n",
       "      <th>0</th>\n",
       "      <td>Afghanistan</td>\n",
       "      <td>1105.0</td>\n",
       "      <td>20.6</td>\n",
       "      <td>60.6</td>\n",
       "      <td>68.2</td>\n",
       "      <td>3.794</td>\n",
       "      <td>4.7</td>\n",
       "    </tr>\n",
       "    <tr>\n",
       "      <th>1</th>\n",
       "      <td>Albania</td>\n",
       "      <td>4932.0</td>\n",
       "      <td>32.4</td>\n",
       "      <td>74.8</td>\n",
       "      <td>81.3</td>\n",
       "      <td>4.959</td>\n",
       "      <td>1.7</td>\n",
       "    </tr>\n",
       "    <tr>\n",
       "      <th>2</th>\n",
       "      <td>Algeria</td>\n",
       "      <td>4534.0</td>\n",
       "      <td>15.6</td>\n",
       "      <td>73.3</td>\n",
       "      <td>78.9</td>\n",
       "      <td>5.605</td>\n",
       "      <td>2.9</td>\n",
       "    </tr>\n",
       "    <tr>\n",
       "      <th>3</th>\n",
       "      <td>Andorra</td>\n",
       "      <td>46622.0</td>\n",
       "      <td>18.9</td>\n",
       "      <td>81.7</td>\n",
       "      <td>84.8</td>\n",
       "      <td>6.955</td>\n",
       "      <td>1.4</td>\n",
       "    </tr>\n",
       "    <tr>\n",
       "      <th>4</th>\n",
       "      <td>Angola</td>\n",
       "      <td>2077.0</td>\n",
       "      <td>20.5</td>\n",
       "      <td>58.1</td>\n",
       "      <td>65.6</td>\n",
       "      <td>4.105</td>\n",
       "      <td>5.3</td>\n",
       "    </tr>\n",
       "    <tr>\n",
       "      <th>...</th>\n",
       "      <td>...</td>\n",
       "      <td>...</td>\n",
       "      <td>...</td>\n",
       "      <td>...</td>\n",
       "      <td>...</td>\n",
       "      <td>...</td>\n",
       "      <td>...</td>\n",
       "    </tr>\n",
       "    <tr>\n",
       "      <th>145</th>\n",
       "      <td>Kyrgyz Republic</td>\n",
       "      <td>NaN</td>\n",
       "      <td>NaN</td>\n",
       "      <td>71.0</td>\n",
       "      <td>76.3</td>\n",
       "      <td>5.136</td>\n",
       "      <td>2.6</td>\n",
       "    </tr>\n",
       "    <tr>\n",
       "      <th>146</th>\n",
       "      <td>Macedonia, FYR</td>\n",
       "      <td>NaN</td>\n",
       "      <td>NaN</td>\n",
       "      <td>75.5</td>\n",
       "      <td>80.8</td>\n",
       "      <td>5.526</td>\n",
       "      <td>1.5</td>\n",
       "    </tr>\n",
       "    <tr>\n",
       "      <th>147</th>\n",
       "      <td>Qatar</td>\n",
       "      <td>NaN</td>\n",
       "      <td>NaN</td>\n",
       "      <td>78.1</td>\n",
       "      <td>82.5</td>\n",
       "      <td>6.420</td>\n",
       "      <td>2.3</td>\n",
       "    </tr>\n",
       "    <tr>\n",
       "      <th>148</th>\n",
       "      <td>Singapore</td>\n",
       "      <td>NaN</td>\n",
       "      <td>NaN</td>\n",
       "      <td>82.5</td>\n",
       "      <td>85.9</td>\n",
       "      <td>6.710</td>\n",
       "      <td>1.2</td>\n",
       "    </tr>\n",
       "    <tr>\n",
       "      <th>149</th>\n",
       "      <td>United Arab Emirates</td>\n",
       "      <td>NaN</td>\n",
       "      <td>NaN</td>\n",
       "      <td>76.3</td>\n",
       "      <td>80.6</td>\n",
       "      <td>6.390</td>\n",
       "      <td>2.6</td>\n",
       "    </tr>\n",
       "  </tbody>\n",
       "</table>\n",
       "<p>150 rows × 7 columns</p>\n",
       "</div>"
      ],
      "text/plain": [
       "                  Country  gdpPerCapita  suicideRate  lifeExpectancyMen  \\\n",
       "0             Afghanistan        1105.0         20.6               60.6   \n",
       "1                 Albania        4932.0         32.4               74.8   \n",
       "2                 Algeria        4534.0         15.6               73.3   \n",
       "3                 Andorra       46622.0         18.9               81.7   \n",
       "4                  Angola        2077.0         20.5               58.1   \n",
       "..                    ...           ...          ...                ...   \n",
       "145       Kyrgyz Republic           NaN          NaN               71.0   \n",
       "146        Macedonia, FYR           NaN          NaN               75.5   \n",
       "147                 Qatar           NaN          NaN               78.1   \n",
       "148             Singapore           NaN          NaN               82.5   \n",
       "149  United Arab Emirates           NaN          NaN               76.3   \n",
       "\n",
       "     lifeExpectancyWomen  happinessScore  fertilityRate  \n",
       "0                   68.2           3.794            4.7  \n",
       "1                   81.3           4.959            1.7  \n",
       "2                   78.9           5.605            2.9  \n",
       "3                   84.8           6.955            1.4  \n",
       "4                   65.6           4.105            5.3  \n",
       "..                   ...             ...            ...  \n",
       "145                 76.3           5.136            2.6  \n",
       "146                 80.8           5.526            1.5  \n",
       "147                 82.5           6.420            2.3  \n",
       "148                 85.9           6.710            1.2  \n",
       "149                 80.6           6.390            2.6  \n",
       "\n",
       "[150 rows x 7 columns]"
      ]
     },
     "execution_count": 126,
     "metadata": {},
     "output_type": "execute_result"
    }
   ],
   "source": [
    "suicide_life_df = pd.merge(suicide_df, life_df, on='Country',how=\"outer\")\n",
    "suicide_life_df"
   ]
  },
  {
   "cell_type": "code",
   "execution_count": 127,
   "id": "e65a6e5e-747b-48b5-b9a9-59b0fcf92be0",
   "metadata": {},
   "outputs": [
    {
     "data": {
      "text/html": [
       "<div>\n",
       "<style scoped>\n",
       "    .dataframe tbody tr th:only-of-type {\n",
       "        vertical-align: middle;\n",
       "    }\n",
       "\n",
       "    .dataframe tbody tr th {\n",
       "        vertical-align: top;\n",
       "    }\n",
       "\n",
       "    .dataframe thead th {\n",
       "        text-align: right;\n",
       "    }\n",
       "</style>\n",
       "<table border=\"1\" class=\"dataframe\">\n",
       "  <thead>\n",
       "    <tr style=\"text-align: right;\">\n",
       "      <th></th>\n",
       "      <th>Country</th>\n",
       "      <th>gdpPerCapita</th>\n",
       "      <th>suicideRate</th>\n",
       "      <th>lifeExpectancyMen</th>\n",
       "      <th>lifeExpectancyWomen</th>\n",
       "      <th>happinessScore</th>\n",
       "      <th>fertilityRate</th>\n",
       "    </tr>\n",
       "  </thead>\n",
       "  <tbody>\n",
       "    <tr>\n",
       "      <th>24</th>\n",
       "      <td>Brunei Darussalam</td>\n",
       "      <td>78467.0</td>\n",
       "      <td>14.4</td>\n",
       "      <td>NaN</td>\n",
       "      <td>NaN</td>\n",
       "      <td>NaN</td>\n",
       "      <td>NaN</td>\n",
       "    </tr>\n",
       "    <tr>\n",
       "      <th>31</th>\n",
       "      <td>Cape Verde</td>\n",
       "      <td>3401.0</td>\n",
       "      <td>17.8</td>\n",
       "      <td>NaN</td>\n",
       "      <td>NaN</td>\n",
       "      <td>NaN</td>\n",
       "      <td>NaN</td>\n",
       "    </tr>\n",
       "    <tr>\n",
       "      <th>89</th>\n",
       "      <td>Kyrgyzstan</td>\n",
       "      <td>3421.0</td>\n",
       "      <td>21.5</td>\n",
       "      <td>NaN</td>\n",
       "      <td>NaN</td>\n",
       "      <td>NaN</td>\n",
       "      <td>NaN</td>\n",
       "    </tr>\n",
       "    <tr>\n",
       "      <th>98</th>\n",
       "      <td>Macedonia</td>\n",
       "      <td>7387.0</td>\n",
       "      <td>21.4</td>\n",
       "      <td>NaN</td>\n",
       "      <td>NaN</td>\n",
       "      <td>NaN</td>\n",
       "      <td>NaN</td>\n",
       "    </tr>\n",
       "    <tr>\n",
       "      <th>117</th>\n",
       "      <td>Nauru</td>\n",
       "      <td>8928.0</td>\n",
       "      <td>18.4</td>\n",
       "      <td>NaN</td>\n",
       "      <td>NaN</td>\n",
       "      <td>NaN</td>\n",
       "      <td>NaN</td>\n",
       "    </tr>\n",
       "    <tr>\n",
       "      <th>135</th>\n",
       "      <td>Spain</td>\n",
       "      <td>29542.0</td>\n",
       "      <td>11.5</td>\n",
       "      <td>NaN</td>\n",
       "      <td>NaN</td>\n",
       "      <td>NaN</td>\n",
       "      <td>NaN</td>\n",
       "    </tr>\n",
       "    <tr>\n",
       "      <th>136</th>\n",
       "      <td>Switzerland</td>\n",
       "      <td>83832.0</td>\n",
       "      <td>12.9</td>\n",
       "      <td>NaN</td>\n",
       "      <td>NaN</td>\n",
       "      <td>NaN</td>\n",
       "      <td>NaN</td>\n",
       "    </tr>\n",
       "    <tr>\n",
       "      <th>139</th>\n",
       "      <td>Thailand</td>\n",
       "      <td>6792.0</td>\n",
       "      <td>27.8</td>\n",
       "      <td>NaN</td>\n",
       "      <td>NaN</td>\n",
       "      <td>NaN</td>\n",
       "      <td>NaN</td>\n",
       "    </tr>\n",
       "    <tr>\n",
       "      <th>140</th>\n",
       "      <td>Brunei</td>\n",
       "      <td>NaN</td>\n",
       "      <td>NaN</td>\n",
       "      <td>76.2</td>\n",
       "      <td>78.7</td>\n",
       "      <td>6.298</td>\n",
       "      <td>1.6</td>\n",
       "    </tr>\n",
       "    <tr>\n",
       "      <th>141</th>\n",
       "      <td>Cabo Verde</td>\n",
       "      <td>NaN</td>\n",
       "      <td>NaN</td>\n",
       "      <td>74.5</td>\n",
       "      <td>80.2</td>\n",
       "      <td>5.507</td>\n",
       "      <td>2.1</td>\n",
       "    </tr>\n",
       "    <tr>\n",
       "      <th>142</th>\n",
       "      <td>Korea, Dem. Rep.</td>\n",
       "      <td>NaN</td>\n",
       "      <td>NaN</td>\n",
       "      <td>70.5</td>\n",
       "      <td>76.5</td>\n",
       "      <td>4.687</td>\n",
       "      <td>2.3</td>\n",
       "    </tr>\n",
       "    <tr>\n",
       "      <th>143</th>\n",
       "      <td>Korea, Rep.</td>\n",
       "      <td>NaN</td>\n",
       "      <td>NaN</td>\n",
       "      <td>81.2</td>\n",
       "      <td>87.0</td>\n",
       "      <td>5.538</td>\n",
       "      <td>1.2</td>\n",
       "    </tr>\n",
       "    <tr>\n",
       "      <th>144</th>\n",
       "      <td>Kosovo</td>\n",
       "      <td>NaN</td>\n",
       "      <td>NaN</td>\n",
       "      <td>74.4</td>\n",
       "      <td>80.4</td>\n",
       "      <td>5.362</td>\n",
       "      <td>1.6</td>\n",
       "    </tr>\n",
       "    <tr>\n",
       "      <th>145</th>\n",
       "      <td>Kyrgyz Republic</td>\n",
       "      <td>NaN</td>\n",
       "      <td>NaN</td>\n",
       "      <td>71.0</td>\n",
       "      <td>76.3</td>\n",
       "      <td>5.136</td>\n",
       "      <td>2.6</td>\n",
       "    </tr>\n",
       "    <tr>\n",
       "      <th>146</th>\n",
       "      <td>Macedonia, FYR</td>\n",
       "      <td>NaN</td>\n",
       "      <td>NaN</td>\n",
       "      <td>75.5</td>\n",
       "      <td>80.8</td>\n",
       "      <td>5.526</td>\n",
       "      <td>1.5</td>\n",
       "    </tr>\n",
       "    <tr>\n",
       "      <th>147</th>\n",
       "      <td>Qatar</td>\n",
       "      <td>NaN</td>\n",
       "      <td>NaN</td>\n",
       "      <td>78.1</td>\n",
       "      <td>82.5</td>\n",
       "      <td>6.420</td>\n",
       "      <td>2.3</td>\n",
       "    </tr>\n",
       "    <tr>\n",
       "      <th>148</th>\n",
       "      <td>Singapore</td>\n",
       "      <td>NaN</td>\n",
       "      <td>NaN</td>\n",
       "      <td>82.5</td>\n",
       "      <td>85.9</td>\n",
       "      <td>6.710</td>\n",
       "      <td>1.2</td>\n",
       "    </tr>\n",
       "    <tr>\n",
       "      <th>149</th>\n",
       "      <td>United Arab Emirates</td>\n",
       "      <td>NaN</td>\n",
       "      <td>NaN</td>\n",
       "      <td>76.3</td>\n",
       "      <td>80.6</td>\n",
       "      <td>6.390</td>\n",
       "      <td>2.6</td>\n",
       "    </tr>\n",
       "  </tbody>\n",
       "</table>\n",
       "</div>"
      ],
      "text/plain": [
       "                  Country  gdpPerCapita  suicideRate  lifeExpectancyMen  \\\n",
       "24      Brunei Darussalam       78467.0         14.4                NaN   \n",
       "31             Cape Verde        3401.0         17.8                NaN   \n",
       "89             Kyrgyzstan        3421.0         21.5                NaN   \n",
       "98              Macedonia        7387.0         21.4                NaN   \n",
       "117                 Nauru        8928.0         18.4                NaN   \n",
       "135                 Spain       29542.0         11.5                NaN   \n",
       "136           Switzerland       83832.0         12.9                NaN   \n",
       "139              Thailand        6792.0         27.8                NaN   \n",
       "140                Brunei           NaN          NaN               76.2   \n",
       "141            Cabo Verde           NaN          NaN               74.5   \n",
       "142      Korea, Dem. Rep.           NaN          NaN               70.5   \n",
       "143           Korea, Rep.           NaN          NaN               81.2   \n",
       "144                Kosovo           NaN          NaN               74.4   \n",
       "145       Kyrgyz Republic           NaN          NaN               71.0   \n",
       "146        Macedonia, FYR           NaN          NaN               75.5   \n",
       "147                 Qatar           NaN          NaN               78.1   \n",
       "148             Singapore           NaN          NaN               82.5   \n",
       "149  United Arab Emirates           NaN          NaN               76.3   \n",
       "\n",
       "     lifeExpectancyWomen  happinessScore  fertilityRate  \n",
       "24                   NaN             NaN            NaN  \n",
       "31                   NaN             NaN            NaN  \n",
       "89                   NaN             NaN            NaN  \n",
       "98                   NaN             NaN            NaN  \n",
       "117                  NaN             NaN            NaN  \n",
       "135                  NaN             NaN            NaN  \n",
       "136                  NaN             NaN            NaN  \n",
       "139                  NaN             NaN            NaN  \n",
       "140                 78.7           6.298            1.6  \n",
       "141                 80.2           5.507            2.1  \n",
       "142                 76.5           4.687            2.3  \n",
       "143                 87.0           5.538            1.2  \n",
       "144                 80.4           5.362            1.6  \n",
       "145                 76.3           5.136            2.6  \n",
       "146                 80.8           5.526            1.5  \n",
       "147                 82.5           6.420            2.3  \n",
       "148                 85.9           6.710            1.2  \n",
       "149                 80.6           6.390            2.6  "
      ]
     },
     "execution_count": 127,
     "metadata": {},
     "output_type": "execute_result"
    }
   ],
   "source": [
    " suicide_life_df[suicide_life_df.isnull().any(axis=1)] #rows with null values\n"
   ]
  },
  {
   "cell_type": "markdown",
   "id": "4f8693a4-d284-44c6-aadb-b2c76953aba4",
   "metadata": {},
   "source": [
    "***We can see that some country names are mispelled that is the reason they fail to merge. lets fix this***"
   ]
  },
  {
   "cell_type": "code",
   "execution_count": 128,
   "id": "0ae57c01-bb3f-4b2e-a447-ec436b78a4f6",
   "metadata": {},
   "outputs": [],
   "source": [
    "suicide_df['Country'].replace(['Brunei Darussalam'], ['Brunei'],inplace=True) "
   ]
  },
  {
   "cell_type": "code",
   "execution_count": 129,
   "id": "5d69f1d0-a057-4390-bba1-6acb24d340e4",
   "metadata": {},
   "outputs": [],
   "source": [
    "life_df['Country'].replace([ 'Cabo Verde','Kyrgyz Republic', 'Macedonia, FYR'], ['Cape Verde','Kyrgyzstan', 'Macedonia'],inplace=True) "
   ]
  },
  {
   "cell_type": "code",
   "execution_count": 130,
   "id": "89fc9c98-a314-4d2c-b4af-ece051a1e479",
   "metadata": {},
   "outputs": [
    {
     "data": {
      "text/html": [
       "<div>\n",
       "<style scoped>\n",
       "    .dataframe tbody tr th:only-of-type {\n",
       "        vertical-align: middle;\n",
       "    }\n",
       "\n",
       "    .dataframe tbody tr th {\n",
       "        vertical-align: top;\n",
       "    }\n",
       "\n",
       "    .dataframe thead th {\n",
       "        text-align: right;\n",
       "    }\n",
       "</style>\n",
       "<table border=\"1\" class=\"dataframe\">\n",
       "  <thead>\n",
       "    <tr style=\"text-align: right;\">\n",
       "      <th></th>\n",
       "      <th>Country</th>\n",
       "      <th>gdpPerCapita</th>\n",
       "      <th>suicideRate</th>\n",
       "      <th>lifeExpectancyMen</th>\n",
       "      <th>lifeExpectancyWomen</th>\n",
       "      <th>happinessScore</th>\n",
       "      <th>fertilityRate</th>\n",
       "    </tr>\n",
       "  </thead>\n",
       "  <tbody>\n",
       "    <tr>\n",
       "      <th>0</th>\n",
       "      <td>Afghanistan</td>\n",
       "      <td>1105.0</td>\n",
       "      <td>20.6</td>\n",
       "      <td>60.6</td>\n",
       "      <td>68.2</td>\n",
       "      <td>3.794</td>\n",
       "      <td>4.7</td>\n",
       "    </tr>\n",
       "    <tr>\n",
       "      <th>1</th>\n",
       "      <td>Albania</td>\n",
       "      <td>4932.0</td>\n",
       "      <td>32.4</td>\n",
       "      <td>74.8</td>\n",
       "      <td>81.3</td>\n",
       "      <td>4.959</td>\n",
       "      <td>1.7</td>\n",
       "    </tr>\n",
       "    <tr>\n",
       "      <th>2</th>\n",
       "      <td>Algeria</td>\n",
       "      <td>4534.0</td>\n",
       "      <td>15.6</td>\n",
       "      <td>73.3</td>\n",
       "      <td>78.9</td>\n",
       "      <td>5.605</td>\n",
       "      <td>2.9</td>\n",
       "    </tr>\n",
       "    <tr>\n",
       "      <th>3</th>\n",
       "      <td>Andorra</td>\n",
       "      <td>46622.0</td>\n",
       "      <td>18.9</td>\n",
       "      <td>81.7</td>\n",
       "      <td>84.8</td>\n",
       "      <td>6.955</td>\n",
       "      <td>1.4</td>\n",
       "    </tr>\n",
       "    <tr>\n",
       "      <th>4</th>\n",
       "      <td>Angola</td>\n",
       "      <td>2077.0</td>\n",
       "      <td>20.5</td>\n",
       "      <td>58.1</td>\n",
       "      <td>65.6</td>\n",
       "      <td>4.105</td>\n",
       "      <td>5.3</td>\n",
       "    </tr>\n",
       "    <tr>\n",
       "      <th>...</th>\n",
       "      <td>...</td>\n",
       "      <td>...</td>\n",
       "      <td>...</td>\n",
       "      <td>...</td>\n",
       "      <td>...</td>\n",
       "      <td>...</td>\n",
       "      <td>...</td>\n",
       "    </tr>\n",
       "    <tr>\n",
       "      <th>141</th>\n",
       "      <td>Korea, Rep.</td>\n",
       "      <td>NaN</td>\n",
       "      <td>NaN</td>\n",
       "      <td>81.2</td>\n",
       "      <td>87.0</td>\n",
       "      <td>5.538</td>\n",
       "      <td>1.2</td>\n",
       "    </tr>\n",
       "    <tr>\n",
       "      <th>142</th>\n",
       "      <td>Kosovo</td>\n",
       "      <td>NaN</td>\n",
       "      <td>NaN</td>\n",
       "      <td>74.4</td>\n",
       "      <td>80.4</td>\n",
       "      <td>5.362</td>\n",
       "      <td>1.6</td>\n",
       "    </tr>\n",
       "    <tr>\n",
       "      <th>143</th>\n",
       "      <td>Qatar</td>\n",
       "      <td>NaN</td>\n",
       "      <td>NaN</td>\n",
       "      <td>78.1</td>\n",
       "      <td>82.5</td>\n",
       "      <td>6.420</td>\n",
       "      <td>2.3</td>\n",
       "    </tr>\n",
       "    <tr>\n",
       "      <th>144</th>\n",
       "      <td>Singapore</td>\n",
       "      <td>NaN</td>\n",
       "      <td>NaN</td>\n",
       "      <td>82.5</td>\n",
       "      <td>85.9</td>\n",
       "      <td>6.710</td>\n",
       "      <td>1.2</td>\n",
       "    </tr>\n",
       "    <tr>\n",
       "      <th>145</th>\n",
       "      <td>United Arab Emirates</td>\n",
       "      <td>NaN</td>\n",
       "      <td>NaN</td>\n",
       "      <td>76.3</td>\n",
       "      <td>80.6</td>\n",
       "      <td>6.390</td>\n",
       "      <td>2.6</td>\n",
       "    </tr>\n",
       "  </tbody>\n",
       "</table>\n",
       "<p>146 rows × 7 columns</p>\n",
       "</div>"
      ],
      "text/plain": [
       "                  Country  gdpPerCapita  suicideRate  lifeExpectancyMen  \\\n",
       "0             Afghanistan        1105.0         20.6               60.6   \n",
       "1                 Albania        4932.0         32.4               74.8   \n",
       "2                 Algeria        4534.0         15.6               73.3   \n",
       "3                 Andorra       46622.0         18.9               81.7   \n",
       "4                  Angola        2077.0         20.5               58.1   \n",
       "..                    ...           ...          ...                ...   \n",
       "141           Korea, Rep.           NaN          NaN               81.2   \n",
       "142                Kosovo           NaN          NaN               74.4   \n",
       "143                 Qatar           NaN          NaN               78.1   \n",
       "144             Singapore           NaN          NaN               82.5   \n",
       "145  United Arab Emirates           NaN          NaN               76.3   \n",
       "\n",
       "     lifeExpectancyWomen  happinessScore  fertilityRate  \n",
       "0                   68.2           3.794            4.7  \n",
       "1                   81.3           4.959            1.7  \n",
       "2                   78.9           5.605            2.9  \n",
       "3                   84.8           6.955            1.4  \n",
       "4                   65.6           4.105            5.3  \n",
       "..                   ...             ...            ...  \n",
       "141                 87.0           5.538            1.2  \n",
       "142                 80.4           5.362            1.6  \n",
       "143                 82.5           6.420            2.3  \n",
       "144                 85.9           6.710            1.2  \n",
       "145                 80.6           6.390            2.6  \n",
       "\n",
       "[146 rows x 7 columns]"
      ]
     },
     "execution_count": 130,
     "metadata": {},
     "output_type": "execute_result"
    }
   ],
   "source": [
    "suicide_life_df = pd.merge(suicide_df, life_df, on='Country',how=\"outer\")\n",
    "suicide_life_df"
   ]
  },
  {
   "cell_type": "code",
   "execution_count": 131,
   "id": "23c6d683-8e99-4363-9212-209e362e0def",
   "metadata": {},
   "outputs": [
    {
     "data": {
      "text/html": [
       "<div>\n",
       "<style scoped>\n",
       "    .dataframe tbody tr th:only-of-type {\n",
       "        vertical-align: middle;\n",
       "    }\n",
       "\n",
       "    .dataframe tbody tr th {\n",
       "        vertical-align: top;\n",
       "    }\n",
       "\n",
       "    .dataframe thead th {\n",
       "        text-align: right;\n",
       "    }\n",
       "</style>\n",
       "<table border=\"1\" class=\"dataframe\">\n",
       "  <thead>\n",
       "    <tr style=\"text-align: right;\">\n",
       "      <th></th>\n",
       "      <th>Country</th>\n",
       "      <th>gdpPerCapita</th>\n",
       "      <th>suicideRate</th>\n",
       "      <th>lifeExpectancyMen</th>\n",
       "      <th>lifeExpectancyWomen</th>\n",
       "      <th>happinessScore</th>\n",
       "      <th>fertilityRate</th>\n",
       "    </tr>\n",
       "  </thead>\n",
       "  <tbody>\n",
       "    <tr>\n",
       "      <th>117</th>\n",
       "      <td>Nauru</td>\n",
       "      <td>8928.0</td>\n",
       "      <td>18.4</td>\n",
       "      <td>NaN</td>\n",
       "      <td>NaN</td>\n",
       "      <td>NaN</td>\n",
       "      <td>NaN</td>\n",
       "    </tr>\n",
       "    <tr>\n",
       "      <th>135</th>\n",
       "      <td>Spain</td>\n",
       "      <td>29542.0</td>\n",
       "      <td>11.5</td>\n",
       "      <td>NaN</td>\n",
       "      <td>NaN</td>\n",
       "      <td>NaN</td>\n",
       "      <td>NaN</td>\n",
       "    </tr>\n",
       "    <tr>\n",
       "      <th>136</th>\n",
       "      <td>Switzerland</td>\n",
       "      <td>83832.0</td>\n",
       "      <td>12.9</td>\n",
       "      <td>NaN</td>\n",
       "      <td>NaN</td>\n",
       "      <td>NaN</td>\n",
       "      <td>NaN</td>\n",
       "    </tr>\n",
       "    <tr>\n",
       "      <th>139</th>\n",
       "      <td>Thailand</td>\n",
       "      <td>6792.0</td>\n",
       "      <td>27.8</td>\n",
       "      <td>NaN</td>\n",
       "      <td>NaN</td>\n",
       "      <td>NaN</td>\n",
       "      <td>NaN</td>\n",
       "    </tr>\n",
       "    <tr>\n",
       "      <th>140</th>\n",
       "      <td>Korea, Dem. Rep.</td>\n",
       "      <td>NaN</td>\n",
       "      <td>NaN</td>\n",
       "      <td>70.5</td>\n",
       "      <td>76.5</td>\n",
       "      <td>4.687</td>\n",
       "      <td>2.3</td>\n",
       "    </tr>\n",
       "    <tr>\n",
       "      <th>141</th>\n",
       "      <td>Korea, Rep.</td>\n",
       "      <td>NaN</td>\n",
       "      <td>NaN</td>\n",
       "      <td>81.2</td>\n",
       "      <td>87.0</td>\n",
       "      <td>5.538</td>\n",
       "      <td>1.2</td>\n",
       "    </tr>\n",
       "    <tr>\n",
       "      <th>142</th>\n",
       "      <td>Kosovo</td>\n",
       "      <td>NaN</td>\n",
       "      <td>NaN</td>\n",
       "      <td>74.4</td>\n",
       "      <td>80.4</td>\n",
       "      <td>5.362</td>\n",
       "      <td>1.6</td>\n",
       "    </tr>\n",
       "    <tr>\n",
       "      <th>143</th>\n",
       "      <td>Qatar</td>\n",
       "      <td>NaN</td>\n",
       "      <td>NaN</td>\n",
       "      <td>78.1</td>\n",
       "      <td>82.5</td>\n",
       "      <td>6.420</td>\n",
       "      <td>2.3</td>\n",
       "    </tr>\n",
       "    <tr>\n",
       "      <th>144</th>\n",
       "      <td>Singapore</td>\n",
       "      <td>NaN</td>\n",
       "      <td>NaN</td>\n",
       "      <td>82.5</td>\n",
       "      <td>85.9</td>\n",
       "      <td>6.710</td>\n",
       "      <td>1.2</td>\n",
       "    </tr>\n",
       "    <tr>\n",
       "      <th>145</th>\n",
       "      <td>United Arab Emirates</td>\n",
       "      <td>NaN</td>\n",
       "      <td>NaN</td>\n",
       "      <td>76.3</td>\n",
       "      <td>80.6</td>\n",
       "      <td>6.390</td>\n",
       "      <td>2.6</td>\n",
       "    </tr>\n",
       "  </tbody>\n",
       "</table>\n",
       "</div>"
      ],
      "text/plain": [
       "                  Country  gdpPerCapita  suicideRate  lifeExpectancyMen  \\\n",
       "117                 Nauru        8928.0         18.4                NaN   \n",
       "135                 Spain       29542.0         11.5                NaN   \n",
       "136           Switzerland       83832.0         12.9                NaN   \n",
       "139              Thailand        6792.0         27.8                NaN   \n",
       "140      Korea, Dem. Rep.           NaN          NaN               70.5   \n",
       "141           Korea, Rep.           NaN          NaN               81.2   \n",
       "142                Kosovo           NaN          NaN               74.4   \n",
       "143                 Qatar           NaN          NaN               78.1   \n",
       "144             Singapore           NaN          NaN               82.5   \n",
       "145  United Arab Emirates           NaN          NaN               76.3   \n",
       "\n",
       "     lifeExpectancyWomen  happinessScore  fertilityRate  \n",
       "117                  NaN             NaN            NaN  \n",
       "135                  NaN             NaN            NaN  \n",
       "136                  NaN             NaN            NaN  \n",
       "139                  NaN             NaN            NaN  \n",
       "140                 76.5           4.687            2.3  \n",
       "141                 87.0           5.538            1.2  \n",
       "142                 80.4           5.362            1.6  \n",
       "143                 82.5           6.420            2.3  \n",
       "144                 85.9           6.710            1.2  \n",
       "145                 80.6           6.390            2.6  "
      ]
     },
     "execution_count": 131,
     "metadata": {},
     "output_type": "execute_result"
    }
   ],
   "source": [
    "suicide_life_df[suicide_life_df.isnull().any(axis=1)] #rows with null values"
   ]
  },
  {
   "cell_type": "markdown",
   "id": "653a7d7d-3ba9-4d1b-94e7-606be82cdc2a",
   "metadata": {},
   "source": [
    "***Drop the rows containing NUll as we are interested in the countries in both the datasets***"
   ]
  },
  {
   "cell_type": "code",
   "execution_count": 132,
   "id": "4b16bf69-933d-4822-9911-c794d4a1b4e9",
   "metadata": {},
   "outputs": [],
   "source": [
    "suicide_life_df.dropna(inplace=True) "
   ]
  },
  {
   "cell_type": "code",
   "execution_count": 133,
   "id": "c817a662-efff-471c-869b-ce70cd59095a",
   "metadata": {},
   "outputs": [
    {
     "name": "stdout",
     "output_type": "stream",
     "text": [
      "<class 'pandas.core.frame.DataFrame'>\n",
      "Int64Index: 136 entries, 0 to 138\n",
      "Data columns (total 7 columns):\n",
      " #   Column               Non-Null Count  Dtype  \n",
      "---  ------               --------------  -----  \n",
      " 0   Country              136 non-null    object \n",
      " 1   gdpPerCapita         136 non-null    float64\n",
      " 2   suicideRate          136 non-null    float64\n",
      " 3   lifeExpectancyMen    136 non-null    float64\n",
      " 4   lifeExpectancyWomen  136 non-null    float64\n",
      " 5   happinessScore       136 non-null    float64\n",
      " 6   fertilityRate        136 non-null    float64\n",
      "dtypes: float64(6), object(1)\n",
      "memory usage: 8.5+ KB\n"
     ]
    }
   ],
   "source": [
    "suicide_life_df.info()"
   ]
  },
  {
   "cell_type": "code",
   "execution_count": 134,
   "id": "fee79dfc-b91a-4757-b479-f68b74303f4f",
   "metadata": {},
   "outputs": [],
   "source": [
    "# Lets save this cleaned data into csv file\n",
    "suicide_life_df.to_csv('../data/suicide_life_df.csv', index=False)"
   ]
  },
  {
   "cell_type": "code",
   "execution_count": null,
   "id": "d70efa3f-ae3f-4460-bd19-9111ca5b4f28",
   "metadata": {},
   "outputs": [],
   "source": []
  }
 ],
 "metadata": {
  "kernelspec": {
   "display_name": "Python 3 (ipykernel)",
   "language": "python",
   "name": "python3"
  },
  "language_info": {
   "codemirror_mode": {
    "name": "ipython",
    "version": 3
   },
   "file_extension": ".py",
   "mimetype": "text/x-python",
   "name": "python",
   "nbconvert_exporter": "python",
   "pygments_lexer": "ipython3",
   "version": "3.9.13"
  }
 },
 "nbformat": 4,
 "nbformat_minor": 5
}
