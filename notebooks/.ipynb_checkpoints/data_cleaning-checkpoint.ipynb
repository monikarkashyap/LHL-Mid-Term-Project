{
 "cells": [
  {
   "cell_type": "markdown",
   "id": "bc4e75a4-6172-46a2-b092-d7d54773870f",
   "metadata": {},
   "source": [
    "***Data Source [Woman Harassment Dataset 2001-21 | Bangladesh](https://www.kaggle.com/datasets/azminetoushikwasi/woman-harassment-dataset-200121-bangladesh?select=Stalking_2011-2021.csv)***"
   ]
  },
  {
   "cell_type": "code",
   "execution_count": 4,
   "id": "dc0e542c-e118-4900-bad2-2240a6d6c6cf",
   "metadata": {},
   "outputs": [],
   "source": [
    "#imports\n",
    "import pandas as pd\n"
   ]
  },
  {
   "cell_type": "code",
   "execution_count": 5,
   "id": "f817128c-b5cd-4c18-b011-fb5c35fd6314",
   "metadata": {},
   "outputs": [],
   "source": [
    "#load the data from Excel"
   ]
  },
  {
   "cell_type": "code",
   "execution_count": 9,
   "id": "f7e78669-4536-462c-b4cc-f967105c710e",
   "metadata": {},
   "outputs": [
    {
     "data": {
      "text/html": [
       "<div>\n",
       "<style scoped>\n",
       "    .dataframe tbody tr th:only-of-type {\n",
       "        vertical-align: middle;\n",
       "    }\n",
       "\n",
       "    .dataframe tbody tr th {\n",
       "        vertical-align: top;\n",
       "    }\n",
       "\n",
       "    .dataframe thead th {\n",
       "        text-align: right;\n",
       "    }\n",
       "</style>\n",
       "<table border=\"1\" class=\"dataframe\">\n",
       "  <thead>\n",
       "    <tr style=\"text-align: right;\">\n",
       "      <th></th>\n",
       "      <th>Patient ID</th>\n",
       "      <th>Age</th>\n",
       "      <th>Sex</th>\n",
       "      <th>Cholesterol</th>\n",
       "      <th>Blood Pressure</th>\n",
       "      <th>Heart Rate</th>\n",
       "      <th>Diabetes</th>\n",
       "      <th>Family History</th>\n",
       "      <th>Smoking</th>\n",
       "      <th>Obesity</th>\n",
       "      <th>...</th>\n",
       "      <th>Sedentary Hours Per Day</th>\n",
       "      <th>Income</th>\n",
       "      <th>BMI</th>\n",
       "      <th>Triglycerides</th>\n",
       "      <th>Physical Activity Days Per Week</th>\n",
       "      <th>Sleep Hours Per Day</th>\n",
       "      <th>Country</th>\n",
       "      <th>Continent</th>\n",
       "      <th>Hemisphere</th>\n",
       "      <th>Heart Attack Risk</th>\n",
       "    </tr>\n",
       "  </thead>\n",
       "  <tbody>\n",
       "    <tr>\n",
       "      <th>0</th>\n",
       "      <td>BMW7812</td>\n",
       "      <td>67</td>\n",
       "      <td>Male</td>\n",
       "      <td>208</td>\n",
       "      <td>158/88</td>\n",
       "      <td>72</td>\n",
       "      <td>0</td>\n",
       "      <td>0</td>\n",
       "      <td>1</td>\n",
       "      <td>0</td>\n",
       "      <td>...</td>\n",
       "      <td>6.615001</td>\n",
       "      <td>261404</td>\n",
       "      <td>31.251233</td>\n",
       "      <td>286</td>\n",
       "      <td>0</td>\n",
       "      <td>6</td>\n",
       "      <td>Argentina</td>\n",
       "      <td>South America</td>\n",
       "      <td>Southern Hemisphere</td>\n",
       "      <td>0</td>\n",
       "    </tr>\n",
       "    <tr>\n",
       "      <th>1</th>\n",
       "      <td>CZE1114</td>\n",
       "      <td>21</td>\n",
       "      <td>Male</td>\n",
       "      <td>389</td>\n",
       "      <td>165/93</td>\n",
       "      <td>98</td>\n",
       "      <td>1</td>\n",
       "      <td>1</td>\n",
       "      <td>1</td>\n",
       "      <td>1</td>\n",
       "      <td>...</td>\n",
       "      <td>4.963459</td>\n",
       "      <td>285768</td>\n",
       "      <td>27.194973</td>\n",
       "      <td>235</td>\n",
       "      <td>1</td>\n",
       "      <td>7</td>\n",
       "      <td>Canada</td>\n",
       "      <td>North America</td>\n",
       "      <td>Northern Hemisphere</td>\n",
       "      <td>0</td>\n",
       "    </tr>\n",
       "    <tr>\n",
       "      <th>2</th>\n",
       "      <td>BNI9906</td>\n",
       "      <td>21</td>\n",
       "      <td>Female</td>\n",
       "      <td>324</td>\n",
       "      <td>174/99</td>\n",
       "      <td>72</td>\n",
       "      <td>1</td>\n",
       "      <td>0</td>\n",
       "      <td>0</td>\n",
       "      <td>0</td>\n",
       "      <td>...</td>\n",
       "      <td>9.463426</td>\n",
       "      <td>235282</td>\n",
       "      <td>28.176571</td>\n",
       "      <td>587</td>\n",
       "      <td>4</td>\n",
       "      <td>4</td>\n",
       "      <td>France</td>\n",
       "      <td>Europe</td>\n",
       "      <td>Northern Hemisphere</td>\n",
       "      <td>0</td>\n",
       "    </tr>\n",
       "    <tr>\n",
       "      <th>3</th>\n",
       "      <td>JLN3497</td>\n",
       "      <td>84</td>\n",
       "      <td>Male</td>\n",
       "      <td>383</td>\n",
       "      <td>163/100</td>\n",
       "      <td>73</td>\n",
       "      <td>1</td>\n",
       "      <td>1</td>\n",
       "      <td>1</td>\n",
       "      <td>0</td>\n",
       "      <td>...</td>\n",
       "      <td>7.648981</td>\n",
       "      <td>125640</td>\n",
       "      <td>36.464704</td>\n",
       "      <td>378</td>\n",
       "      <td>3</td>\n",
       "      <td>4</td>\n",
       "      <td>Canada</td>\n",
       "      <td>North America</td>\n",
       "      <td>Northern Hemisphere</td>\n",
       "      <td>0</td>\n",
       "    </tr>\n",
       "    <tr>\n",
       "      <th>4</th>\n",
       "      <td>GFO8847</td>\n",
       "      <td>66</td>\n",
       "      <td>Male</td>\n",
       "      <td>318</td>\n",
       "      <td>91/88</td>\n",
       "      <td>93</td>\n",
       "      <td>1</td>\n",
       "      <td>1</td>\n",
       "      <td>1</td>\n",
       "      <td>1</td>\n",
       "      <td>...</td>\n",
       "      <td>1.514821</td>\n",
       "      <td>160555</td>\n",
       "      <td>21.809144</td>\n",
       "      <td>231</td>\n",
       "      <td>1</td>\n",
       "      <td>5</td>\n",
       "      <td>Thailand</td>\n",
       "      <td>Asia</td>\n",
       "      <td>Northern Hemisphere</td>\n",
       "      <td>0</td>\n",
       "    </tr>\n",
       "  </tbody>\n",
       "</table>\n",
       "<p>5 rows × 26 columns</p>\n",
       "</div>"
      ],
      "text/plain": [
       "  Patient ID  Age     Sex  Cholesterol Blood Pressure  Heart Rate  Diabetes  \\\n",
       "0    BMW7812   67    Male          208         158/88          72         0   \n",
       "1    CZE1114   21    Male          389         165/93          98         1   \n",
       "2    BNI9906   21  Female          324         174/99          72         1   \n",
       "3    JLN3497   84    Male          383        163/100          73         1   \n",
       "4    GFO8847   66    Male          318          91/88          93         1   \n",
       "\n",
       "   Family History  Smoking  Obesity  ...  Sedentary Hours Per Day  Income  \\\n",
       "0               0        1        0  ...                 6.615001  261404   \n",
       "1               1        1        1  ...                 4.963459  285768   \n",
       "2               0        0        0  ...                 9.463426  235282   \n",
       "3               1        1        0  ...                 7.648981  125640   \n",
       "4               1        1        1  ...                 1.514821  160555   \n",
       "\n",
       "         BMI  Triglycerides  Physical Activity Days Per Week  \\\n",
       "0  31.251233            286                                0   \n",
       "1  27.194973            235                                1   \n",
       "2  28.176571            587                                4   \n",
       "3  36.464704            378                                3   \n",
       "4  21.809144            231                                1   \n",
       "\n",
       "   Sleep Hours Per Day    Country      Continent           Hemisphere  \\\n",
       "0                    6  Argentina  South America  Southern Hemisphere   \n",
       "1                    7     Canada  North America  Northern Hemisphere   \n",
       "2                    4     France         Europe  Northern Hemisphere   \n",
       "3                    4     Canada  North America  Northern Hemisphere   \n",
       "4                    5   Thailand           Asia  Northern Hemisphere   \n",
       "\n",
       "   Heart Attack Risk  \n",
       "0                  0  \n",
       "1                  0  \n",
       "2                  0  \n",
       "3                  0  \n",
       "4                  0  \n",
       "\n",
       "[5 rows x 26 columns]"
      ]
     },
     "execution_count": 9,
     "metadata": {},
     "output_type": "execute_result"
    }
   ],
   "source": [
    "data = pd.read_csv('../data/heart_attack_dataset.csv')\n",
    "data.head()"
   ]
  },
  {
   "cell_type": "code",
   "execution_count": 12,
   "id": "e94b856c-249d-45ac-bebf-7b13ac67ab6c",
   "metadata": {},
   "outputs": [],
   "source": [
    "#lets do some exploration and cleaning"
   ]
  },
  {
   "cell_type": "code",
   "execution_count": 14,
   "id": "af74c195-db9c-4e35-a26b-e1a4a428541f",
   "metadata": {},
   "outputs": [
    {
     "data": {
      "text/plain": [
       "(8763, 26)"
      ]
     },
     "execution_count": 14,
     "metadata": {},
     "output_type": "execute_result"
    }
   ],
   "source": [
    "data.shape"
   ]
  },
  {
   "cell_type": "code",
   "execution_count": 11,
   "id": "840a2709-c71f-4810-b558-3d6548388423",
   "metadata": {},
   "outputs": [
    {
     "name": "stdout",
     "output_type": "stream",
     "text": [
      "<class 'pandas.core.frame.DataFrame'>\n",
      "RangeIndex: 8763 entries, 0 to 8762\n",
      "Data columns (total 26 columns):\n",
      " #   Column                           Non-Null Count  Dtype  \n",
      "---  ------                           --------------  -----  \n",
      " 0   Patient ID                       8763 non-null   object \n",
      " 1   Age                              8763 non-null   int64  \n",
      " 2   Sex                              8763 non-null   object \n",
      " 3   Cholesterol                      8763 non-null   int64  \n",
      " 4   Blood Pressure                   8763 non-null   object \n",
      " 5   Heart Rate                       8763 non-null   int64  \n",
      " 6   Diabetes                         8763 non-null   int64  \n",
      " 7   Family History                   8763 non-null   int64  \n",
      " 8   Smoking                          8763 non-null   int64  \n",
      " 9   Obesity                          8763 non-null   int64  \n",
      " 10  Alcohol Consumption              8763 non-null   int64  \n",
      " 11  Exercise Hours Per Week          8763 non-null   float64\n",
      " 12  Diet                             8763 non-null   object \n",
      " 13  Previous Heart Problems          8763 non-null   int64  \n",
      " 14  Medication Use                   8763 non-null   int64  \n",
      " 15  Stress Level                     8763 non-null   int64  \n",
      " 16  Sedentary Hours Per Day          8763 non-null   float64\n",
      " 17  Income                           8763 non-null   int64  \n",
      " 18  BMI                              8763 non-null   float64\n",
      " 19  Triglycerides                    8763 non-null   int64  \n",
      " 20  Physical Activity Days Per Week  8763 non-null   int64  \n",
      " 21  Sleep Hours Per Day              8763 non-null   int64  \n",
      " 22  Country                          8763 non-null   object \n",
      " 23  Continent                        8763 non-null   object \n",
      " 24  Hemisphere                       8763 non-null   object \n",
      " 25  Heart Attack Risk                8763 non-null   int64  \n",
      "dtypes: float64(3), int64(16), object(7)\n",
      "memory usage: 1.7+ MB\n"
     ]
    }
   ],
   "source": [
    "data.info() #summary of dataset"
   ]
  },
  {
   "cell_type": "markdown",
   "id": "9115c6e2-7f0d-448a-aa5c-026acb12a0d0",
   "metadata": {},
   "source": [
    "***It seems perfect as this datset does not contains any null values***"
   ]
  },
  {
   "cell_type": "code",
   "execution_count": 18,
   "id": "5aebc6c2-7391-41a3-8280-d1fe2288835e",
   "metadata": {},
   "outputs": [
    {
     "data": {
      "text/plain": [
       "False    8763\n",
       "dtype: int64"
      ]
     },
     "execution_count": 18,
     "metadata": {},
     "output_type": "execute_result"
    }
   ],
   "source": [
    "data.duplicated().value_counts(dropna=False) #find the duplicate rows"
   ]
  },
  {
   "cell_type": "markdown",
   "id": "040f886e-628f-4aa2-a8cf-477fd439e944",
   "metadata": {},
   "source": [
    "***No True value in the output shows dataset does not contains duplicate rows***"
   ]
  },
  {
   "cell_type": "code",
   "execution_count": 15,
   "id": "095a05ec-85e2-4802-8faa-991d36335176",
   "metadata": {},
   "outputs": [],
   "source": [
    "# Lets deep dive into more and validate the values present in various columns"
   ]
  },
  {
   "cell_type": "code",
   "execution_count": 32,
   "id": "6ce32b52-166a-4403-957c-6fb51dcd0859",
   "metadata": {},
   "outputs": [
    {
     "data": {
      "text/plain": [
       "90    152\n",
       "42    150\n",
       "33    147\n",
       "59    147\n",
       "29    137\n",
       "     ... \n",
       "75    102\n",
       "72    101\n",
       "39    100\n",
       "47     99\n",
       "51     82\n",
       "Name: Age, Length: 73, dtype: int64"
      ]
     },
     "execution_count": 32,
     "metadata": {},
     "output_type": "execute_result"
    }
   ],
   "source": [
    "data['Age'].value_counts()"
   ]
  },
  {
   "cell_type": "code",
   "execution_count": 33,
   "id": "37f85a51-d088-41a3-af9f-1dc9016b9289",
   "metadata": {},
   "outputs": [
    {
     "data": {
      "text/plain": [
       "Male      6111\n",
       "Female    2652\n",
       "Name: Sex, dtype: int64"
      ]
     },
     "execution_count": 33,
     "metadata": {},
     "output_type": "execute_result"
    }
   ],
   "source": [
    "data['Sex'].value_counts()"
   ]
  },
  {
   "cell_type": "code",
   "execution_count": 34,
   "id": "ec6e7ac8-c0cf-4200-ba4c-9c755a80d56f",
   "metadata": {},
   "outputs": [
    {
     "data": {
      "text/plain": [
       "0    4443\n",
       "1    4320\n",
       "Name: Family History, dtype: int64"
      ]
     },
     "execution_count": 34,
     "metadata": {},
     "output_type": "execute_result"
    }
   ],
   "source": [
    "data['Family History'].value_counts()"
   ]
  },
  {
   "cell_type": "code",
   "execution_count": 35,
   "id": "83a8b7e8-c71c-4ad3-8d49-955ce97e9005",
   "metadata": {},
   "outputs": [
    {
     "data": {
      "text/plain": [
       "1    7859\n",
       "0     904\n",
       "Name: Smoking, dtype: int64"
      ]
     },
     "execution_count": 35,
     "metadata": {},
     "output_type": "execute_result"
    }
   ],
   "source": [
    "data['Smoking'].value_counts()"
   ]
  },
  {
   "cell_type": "code",
   "execution_count": 37,
   "id": "06b7e378-b852-4a19-bd1e-370e0bac212e",
   "metadata": {},
   "outputs": [
    {
     "data": {
      "text/plain": [
       "Germany           477\n",
       "Argentina         471\n",
       "Brazil            462\n",
       "United Kingdom    457\n",
       "Australia         449\n",
       "Nigeria           448\n",
       "France            446\n",
       "Canada            440\n",
       "China             436\n",
       "New Zealand       435\n",
       "Japan             433\n",
       "Italy             431\n",
       "Spain             430\n",
       "Colombia          429\n",
       "Thailand          428\n",
       "South Africa      425\n",
       "Vietnam           425\n",
       "United States     420\n",
       "India             412\n",
       "South Korea       409\n",
       "Name: Country, dtype: int64"
      ]
     },
     "execution_count": 37,
     "metadata": {},
     "output_type": "execute_result"
    }
   ],
   "source": [
    "data['Country'].value_counts()"
   ]
  },
  {
   "cell_type": "code",
   "execution_count": 38,
   "id": "6bcbe58d-59a0-4c2b-b318-65cdcdceadae",
   "metadata": {},
   "outputs": [
    {
     "data": {
      "text/plain": [
       "Asia             2543\n",
       "Europe           2241\n",
       "South America    1362\n",
       "Australia         884\n",
       "Africa            873\n",
       "North America     860\n",
       "Name: Continent, dtype: int64"
      ]
     },
     "execution_count": 38,
     "metadata": {},
     "output_type": "execute_result"
    }
   ],
   "source": [
    "data['Continent'].value_counts()"
   ]
  },
  {
   "cell_type": "code",
   "execution_count": 39,
   "id": "722b2635-0a90-45fb-99a1-c77fad0d5766",
   "metadata": {},
   "outputs": [
    {
     "data": {
      "text/plain": [
       "Northern Hemisphere    5660\n",
       "Southern Hemisphere    3103\n",
       "Name: Hemisphere, dtype: int64"
      ]
     },
     "execution_count": 39,
     "metadata": {},
     "output_type": "execute_result"
    }
   ],
   "source": [
    "data['Hemisphere'].value_counts()"
   ]
  },
  {
   "cell_type": "code",
   "execution_count": 40,
   "id": "01b6140a-a517-418f-ae04-bfedd4ee07a8",
   "metadata": {},
   "outputs": [
    {
     "data": {
      "text/plain": [
       "0    5624\n",
       "1    3139\n",
       "Name: Heart Attack Risk, dtype: int64"
      ]
     },
     "execution_count": 40,
     "metadata": {},
     "output_type": "execute_result"
    }
   ],
   "source": [
    "data['Heart Attack Risk'].value_counts()"
   ]
  },
  {
   "cell_type": "markdown",
   "id": "28733046-a3cb-4f80-b5d2-0d86a5e733c0",
   "metadata": {},
   "source": [
    "***From the above output we have discovered that out dataset is clean***"
   ]
  },
  {
   "cell_type": "code",
   "execution_count": 41,
   "id": "496fb504-df81-4088-a117-a990112bbf2b",
   "metadata": {},
   "outputs": [],
   "source": [
    "#Rename the column names as it contains spaces"
   ]
  },
  {
   "cell_type": "code",
   "execution_count": 42,
   "id": "7baa2720-8acc-49e1-b191-1a1b8ebc5fcc",
   "metadata": {},
   "outputs": [
    {
     "data": {
      "text/plain": [
       "Index(['Patient ID', 'Age', 'Sex', 'Cholesterol', 'Blood Pressure',\n",
       "       'Heart Rate', 'Diabetes', 'Family History', 'Smoking', 'Obesity',\n",
       "       'Alcohol Consumption', 'Exercise Hours Per Week', 'Diet',\n",
       "       'Previous Heart Problems', 'Medication Use', 'Stress Level',\n",
       "       'Sedentary Hours Per Day', 'Income', 'BMI', 'Triglycerides',\n",
       "       'Physical Activity Days Per Week', 'Sleep Hours Per Day', 'Country',\n",
       "       'Continent', 'Hemisphere', 'Heart Attack Risk'],\n",
       "      dtype='object')"
      ]
     },
     "execution_count": 42,
     "metadata": {},
     "output_type": "execute_result"
    }
   ],
   "source": [
    "data.columns"
   ]
  },
  {
   "cell_type": "code",
   "execution_count": 43,
   "id": "87c9115b-eeec-496b-8ebf-da73b0f2d3ba",
   "metadata": {},
   "outputs": [],
   "source": [
    "data.rename(columns={\n",
    "    'Patient ID':'patient_id',\n",
    "    'Age':'age',\n",
    "    'Sex':'sex',\n",
    "    'Cholesterol':'cholesterol',\n",
    "    'Blood Pressure':'blood_pressure',\n",
    "    'Heart Rate':'heart_rate',\n",
    "    'Diabetes':'diabetes',\n",
    "    'Family History':'family_history',\n",
    "    'Smoking':'smoking',\n",
    "    'Obesity':'obesity',\n",
    "    'Alcohol Consumption':'alcohol_consumption',\n",
    "    'Exercise Hours Per Week':'exercise_hours_per_week',\n",
    "    'Diet':'diet',\n",
    "    'Previous Heart Problems':'previous_heart_problems',\n",
    "    'Medication Use':'medication_use',\n",
    "    'Stress Level':'stress_level',\n",
    "    'Sedentary Hours Per Day':'sedentary_hours_per_day',\n",
    "    'Income':'income',\n",
    "    'BMI':'bmi',\n",
    "    'Triglycerides':'triglycerides',\n",
    "    'Physical Activity Days Per Week':'physical_activity_days_per_week',\n",
    "    'Sleep Hours Per Day':'sleep_hours_per_day',\n",
    "    'Country':'country',\n",
    "    'Continent':'continent',\n",
    "    'Hemisphere':'hemisphere',\n",
    "    'Heart Attack Risk':'heart_attack_risk'\n",
    "},inplace=True)"
   ]
  },
  {
   "cell_type": "code",
   "execution_count": 44,
   "id": "d153d83a-e102-4d27-bc99-14831f5473a3",
   "metadata": {},
   "outputs": [
    {
     "data": {
      "text/plain": [
       "Index(['patient_id', 'age', 'sex', 'cholesterol', 'blood_pressure',\n",
       "       'heart_rate', 'diabetes', 'family_history', 'smoking', 'obesity',\n",
       "       'alcohol_consumption', 'exercise_hours_per_week', 'diet',\n",
       "       'previous_heart_problems', 'medication_use', 'stress_level',\n",
       "       'sedentary_hours_per_day', 'income', 'bmi', 'triglycerides',\n",
       "       'physical_activity_days_per_week', 'sleep_hours_per_day', 'country',\n",
       "       'continent', 'hemisphere', 'heart_attack_risk'],\n",
       "      dtype='object')"
      ]
     },
     "execution_count": 44,
     "metadata": {},
     "output_type": "execute_result"
    }
   ],
   "source": [
    "data.columns"
   ]
  },
  {
   "cell_type": "code",
   "execution_count": 45,
   "id": "bc2202de-7d26-42b9-878c-db3c72c352b1",
   "metadata": {},
   "outputs": [],
   "source": [
    "#lets save this in excel file"
   ]
  },
  {
   "cell_type": "code",
   "execution_count": 46,
   "id": "884ba7a0-cfb4-4e91-9807-e6cde28e9765",
   "metadata": {},
   "outputs": [],
   "source": [
    "data.to_excel('../data/heart_attack_dataset.xlsx',sheet_name='heart_attack_dataset')"
   ]
  },
  {
   "cell_type": "code",
   "execution_count": null,
   "id": "707e90fa-f806-4b37-8e70-354eb67d7d8e",
   "metadata": {},
   "outputs": [],
   "source": []
  }
 ],
 "metadata": {
  "kernelspec": {
   "display_name": "Python 3 (ipykernel)",
   "language": "python",
   "name": "python3"
  },
  "language_info": {
   "codemirror_mode": {
    "name": "ipython",
    "version": 3
   },
   "file_extension": ".py",
   "mimetype": "text/x-python",
   "name": "python",
   "nbconvert_exporter": "python",
   "pygments_lexer": "ipython3",
   "version": "3.9.13"
  }
 },
 "nbformat": 4,
 "nbformat_minor": 5
}
